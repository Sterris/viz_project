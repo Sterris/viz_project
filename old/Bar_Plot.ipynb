{
 "cells": [
  {
   "cell_type": "code",
   "execution_count": 13,
   "metadata": {},
   "outputs": [],
   "source": [
    "import numpy as np\n",
    "import pandas as pd\n",
    "import seaborn as sns\n",
    "from matplotlib import pyplot as plt"
   ]
  },
  {
   "cell_type": "code",
   "execution_count": 14,
   "metadata": {},
   "outputs": [],
   "source": [
    "data = pd.read_csv(\"datasets/worldbank_and_press_freedom.csv\",index_col=0)"
   ]
  },
  {
   "cell_type": "code",
   "execution_count": 15,
   "metadata": {},
   "outputs": [],
   "source": [
    "indicator_data = data[[\"country_code\", \"gdp_per_capita\", \"universal_healthcare_coverage_index\", \"hospital_beds_per_1000\", \"physicians_per_1000\", \"health_expenditure_per_capita\", \"government_effectiveness\", \"political_stability\"]]"
   ]
  },
  {
   "cell_type": "code",
   "execution_count": 16,
   "metadata": {},
   "outputs": [],
   "source": []
  },
  {
   "cell_type": "code",
   "execution_count": 17,
   "metadata": {},
   "outputs": [],
   "source": []
  },
  {
   "cell_type": "code",
   "execution_count": 18,
   "metadata": {},
   "outputs": [
    {
     "data": {
      "text/plain": [
       "160847.0"
      ]
     },
     "execution_count": 18,
     "metadata": {},
     "output_type": "execute_result"
    }
   ],
   "source": []
  },
  {
   "cell_type": "markdown",
   "metadata": {},
   "source": [
    "### Identify focus countries for the plot. \n",
    "\n",
    "China (CHN), India (IND), Italy (ITA), France (FRA), Denmark (DNK), USA (USA), Iran (IRN), Australia (AUS), Sweden (SWE), Mexico (MEX)"
   ]
  },
  {
   "cell_type": "code",
   "execution_count": 7,
   "metadata": {},
   "outputs": [
    {
     "data": {
      "text/html": [
       "<div>\n",
       "<style scoped>\n",
       "    .dataframe tbody tr th:only-of-type {\n",
       "        vertical-align: middle;\n",
       "    }\n",
       "\n",
       "    .dataframe tbody tr th {\n",
       "        vertical-align: top;\n",
       "    }\n",
       "\n",
       "    .dataframe thead th {\n",
       "        text-align: right;\n",
       "    }\n",
       "</style>\n",
       "<table border=\"1\" class=\"dataframe\">\n",
       "  <thead>\n",
       "    <tr style=\"text-align: right;\">\n",
       "      <th></th>\n",
       "      <th>country_code</th>\n",
       "      <th>gdp_per_capita</th>\n",
       "      <th>health_expenditure_per_capita</th>\n",
       "    </tr>\n",
       "  </thead>\n",
       "  <tbody>\n",
       "    <tr>\n",
       "      <th>Australia</th>\n",
       "      <td>AUS</td>\n",
       "      <td>45377.755143</td>\n",
       "      <td>5002.358277</td>\n",
       "    </tr>\n",
       "    <tr>\n",
       "      <th>China</th>\n",
       "      <td>CHN</td>\n",
       "      <td>16181.777716</td>\n",
       "      <td>398.331556</td>\n",
       "    </tr>\n",
       "    <tr>\n",
       "      <th>Denmark</th>\n",
       "      <td>DNK</td>\n",
       "      <td>48419.437883</td>\n",
       "      <td>5565.593425</td>\n",
       "    </tr>\n",
       "    <tr>\n",
       "      <th>France</th>\n",
       "      <td>FRA</td>\n",
       "      <td>39555.544663</td>\n",
       "      <td>4263.361561</td>\n",
       "    </tr>\n",
       "    <tr>\n",
       "      <th>India</th>\n",
       "      <td>IND</td>\n",
       "      <td>6888.188468</td>\n",
       "      <td>62.715554</td>\n",
       "    </tr>\n",
       "    <tr>\n",
       "      <th>India</th>\n",
       "      <td>IND</td>\n",
       "      <td>6888.188468</td>\n",
       "      <td>62.715554</td>\n",
       "    </tr>\n",
       "    <tr>\n",
       "      <th>Iran</th>\n",
       "      <td>IRN</td>\n",
       "      <td>19097.966781</td>\n",
       "      <td>415.391200</td>\n",
       "    </tr>\n",
       "    <tr>\n",
       "      <th>Italy</th>\n",
       "      <td>ITA</td>\n",
       "      <td>35828.486281</td>\n",
       "      <td>2738.706124</td>\n",
       "    </tr>\n",
       "    <tr>\n",
       "      <th>Mexico</th>\n",
       "      <td>MEX</td>\n",
       "      <td>18133.701468</td>\n",
       "      <td>461.786647</td>\n",
       "    </tr>\n",
       "    <tr>\n",
       "      <th>Sweden</th>\n",
       "      <td>SWE</td>\n",
       "      <td>47717.664741</td>\n",
       "      <td>5710.591419</td>\n",
       "    </tr>\n",
       "    <tr>\n",
       "      <th>United States</th>\n",
       "      <td>USA</td>\n",
       "      <td>55719.119981</td>\n",
       "      <td>9869.742382</td>\n",
       "    </tr>\n",
       "  </tbody>\n",
       "</table>\n",
       "</div>"
      ],
      "text/plain": [
       "              country_code  gdp_per_capita  health_expenditure_per_capita\n",
       "Australia              AUS    45377.755143                    5002.358277\n",
       "China                  CHN    16181.777716                     398.331556\n",
       "Denmark                DNK    48419.437883                    5565.593425\n",
       "France                 FRA    39555.544663                    4263.361561\n",
       "India                  IND     6888.188468                      62.715554\n",
       "India                  IND     6888.188468                      62.715554\n",
       "Iran                   IRN    19097.966781                     415.391200\n",
       "Italy                  ITA    35828.486281                    2738.706124\n",
       "Mexico                 MEX    18133.701468                     461.786647\n",
       "Sweden                 SWE    47717.664741                    5710.591419\n",
       "United States          USA    55719.119981                    9869.742382"
      ]
     },
     "execution_count": 7,
     "metadata": {},
     "output_type": "execute_result"
    }
   ],
   "source": [
    "focus_countries = set([\"AUS\", \"CHN\", \"DNK\", \"FRA\", \"IND\", \"IRN\", \"ITA\", \"MEX\", \"SWE\", \"USA\"])\n",
    "\n",
    "focus_countries_data = plot_data[plot_data[\"country_code\"].isin(focus_countries)]\n",
    "focus_countries_data"
   ]
  },
  {
   "cell_type": "code",
   "execution_count": 8,
   "metadata": {},
   "outputs": [
    {
     "data": {
      "text/plain": [
       "country_code\n",
       "SWE      7206.0\n",
       "AUS      5797.0\n",
       "ITA    132547.0\n",
       "IRN     60500.0\n",
       "USA    366614.0\n",
       "IND      4778.0\n",
       "DNK      4681.0\n",
       "CHN     81707.0\n",
       "FRA     98010.0\n",
       "MEX      2143.0\n",
       "Name: 4/6/20, dtype: float64"
      ]
     },
     "execution_count": 8,
     "metadata": {},
     "output_type": "execute_result"
    }
   ],
   "source": [
    "focus_countries_cases = country_sum[focus_countries]\n",
    "focus_countries_cases"
   ]
  },
  {
   "cell_type": "code",
   "execution_count": 9,
   "metadata": {},
   "outputs": [
    {
     "data": {
      "text/html": [
       "<div>\n",
       "<style scoped>\n",
       "    .dataframe tbody tr th:only-of-type {\n",
       "        vertical-align: middle;\n",
       "    }\n",
       "\n",
       "    .dataframe tbody tr th {\n",
       "        vertical-align: top;\n",
       "    }\n",
       "\n",
       "    .dataframe thead th {\n",
       "        text-align: right;\n",
       "    }\n",
       "</style>\n",
       "<table border=\"1\" class=\"dataframe\">\n",
       "  <thead>\n",
       "    <tr style=\"text-align: right;\">\n",
       "      <th></th>\n",
       "      <th>country_code</th>\n",
       "      <th>population</th>\n",
       "    </tr>\n",
       "  </thead>\n",
       "  <tbody>\n",
       "    <tr>\n",
       "      <th>Australia</th>\n",
       "      <td>AUS</td>\n",
       "      <td>24992369</td>\n",
       "    </tr>\n",
       "    <tr>\n",
       "      <th>China</th>\n",
       "      <td>CHN</td>\n",
       "      <td>1392730000</td>\n",
       "    </tr>\n",
       "    <tr>\n",
       "      <th>Denmark</th>\n",
       "      <td>DNK</td>\n",
       "      <td>5797446</td>\n",
       "    </tr>\n",
       "    <tr>\n",
       "      <th>France</th>\n",
       "      <td>FRA</td>\n",
       "      <td>66987244</td>\n",
       "    </tr>\n",
       "    <tr>\n",
       "      <th>India</th>\n",
       "      <td>IND</td>\n",
       "      <td>1352617328</td>\n",
       "    </tr>\n",
       "    <tr>\n",
       "      <th>India</th>\n",
       "      <td>IND</td>\n",
       "      <td>1352617328</td>\n",
       "    </tr>\n",
       "    <tr>\n",
       "      <th>Iran</th>\n",
       "      <td>IRN</td>\n",
       "      <td>81800269</td>\n",
       "    </tr>\n",
       "    <tr>\n",
       "      <th>Italy</th>\n",
       "      <td>ITA</td>\n",
       "      <td>60431283</td>\n",
       "    </tr>\n",
       "    <tr>\n",
       "      <th>Mexico</th>\n",
       "      <td>MEX</td>\n",
       "      <td>126190788</td>\n",
       "    </tr>\n",
       "    <tr>\n",
       "      <th>Sweden</th>\n",
       "      <td>SWE</td>\n",
       "      <td>10183175</td>\n",
       "    </tr>\n",
       "    <tr>\n",
       "      <th>United States</th>\n",
       "      <td>USA</td>\n",
       "      <td>327167434</td>\n",
       "    </tr>\n",
       "  </tbody>\n",
       "</table>\n",
       "</div>"
      ],
      "text/plain": [
       "              country_code  population\n",
       "Australia              AUS    24992369\n",
       "China                  CHN  1392730000\n",
       "Denmark                DNK     5797446\n",
       "France                 FRA    66987244\n",
       "India                  IND  1352617328\n",
       "India                  IND  1352617328\n",
       "Iran                   IRN    81800269\n",
       "Italy                  ITA    60431283\n",
       "Mexico                 MEX   126190788\n",
       "Sweden                 SWE    10183175\n",
       "United States          USA   327167434"
      ]
     },
     "execution_count": 9,
     "metadata": {},
     "output_type": "execute_result"
    }
   ],
   "source": [
    "population = data[[\"country_code\", \"population\"]]\n",
    "focus_countries_population = population[population[\"country_code\"].isin(focus_countries)]\n",
    "focus_countries_population"
   ]
  },
  {
   "cell_type": "code",
   "execution_count": 10,
   "metadata": {},
   "outputs": [
    {
     "data": {
      "text/html": [
       "<div>\n",
       "<style scoped>\n",
       "    .dataframe tbody tr th:only-of-type {\n",
       "        vertical-align: middle;\n",
       "    }\n",
       "\n",
       "    .dataframe tbody tr th {\n",
       "        vertical-align: top;\n",
       "    }\n",
       "\n",
       "    .dataframe thead th {\n",
       "        text-align: right;\n",
       "    }\n",
       "</style>\n",
       "<table border=\"1\" class=\"dataframe\">\n",
       "  <thead>\n",
       "    <tr style=\"text-align: right;\">\n",
       "      <th></th>\n",
       "      <th>country_code</th>\n",
       "      <th>gdp_per_capita</th>\n",
       "      <th>COVID19_Cases</th>\n",
       "      <th>Population</th>\n",
       "      <th>health_expenditure_per_capita</th>\n",
       "    </tr>\n",
       "  </thead>\n",
       "  <tbody>\n",
       "    <tr>\n",
       "      <th>Australia</th>\n",
       "      <td>AUS</td>\n",
       "      <td>45377.755143</td>\n",
       "      <td>5797</td>\n",
       "      <td>24992369</td>\n",
       "      <td>5002.358277</td>\n",
       "    </tr>\n",
       "    <tr>\n",
       "      <th>China</th>\n",
       "      <td>CHN</td>\n",
       "      <td>16181.777716</td>\n",
       "      <td>81707</td>\n",
       "      <td>1392730000</td>\n",
       "      <td>398.331556</td>\n",
       "    </tr>\n",
       "    <tr>\n",
       "      <th>Denmark</th>\n",
       "      <td>DNK</td>\n",
       "      <td>48419.437883</td>\n",
       "      <td>4681</td>\n",
       "      <td>5797446</td>\n",
       "      <td>5565.593425</td>\n",
       "    </tr>\n",
       "    <tr>\n",
       "      <th>France</th>\n",
       "      <td>FRA</td>\n",
       "      <td>39555.544663</td>\n",
       "      <td>98010</td>\n",
       "      <td>66987244</td>\n",
       "      <td>4263.361561</td>\n",
       "    </tr>\n",
       "    <tr>\n",
       "      <th>India</th>\n",
       "      <td>IND</td>\n",
       "      <td>6888.188468</td>\n",
       "      <td>4778</td>\n",
       "      <td>1352617328</td>\n",
       "      <td>62.715554</td>\n",
       "    </tr>\n",
       "    <tr>\n",
       "      <th>India</th>\n",
       "      <td>IND</td>\n",
       "      <td>6888.188468</td>\n",
       "      <td>4778</td>\n",
       "      <td>1352617328</td>\n",
       "      <td>62.715554</td>\n",
       "    </tr>\n",
       "    <tr>\n",
       "      <th>Iran</th>\n",
       "      <td>IRN</td>\n",
       "      <td>19097.966781</td>\n",
       "      <td>60500</td>\n",
       "      <td>81800269</td>\n",
       "      <td>415.391200</td>\n",
       "    </tr>\n",
       "    <tr>\n",
       "      <th>Italy</th>\n",
       "      <td>ITA</td>\n",
       "      <td>35828.486281</td>\n",
       "      <td>132547</td>\n",
       "      <td>60431283</td>\n",
       "      <td>2738.706124</td>\n",
       "    </tr>\n",
       "    <tr>\n",
       "      <th>Mexico</th>\n",
       "      <td>MEX</td>\n",
       "      <td>18133.701468</td>\n",
       "      <td>2143</td>\n",
       "      <td>126190788</td>\n",
       "      <td>461.786647</td>\n",
       "    </tr>\n",
       "    <tr>\n",
       "      <th>Sweden</th>\n",
       "      <td>SWE</td>\n",
       "      <td>47717.664741</td>\n",
       "      <td>7206</td>\n",
       "      <td>10183175</td>\n",
       "      <td>5710.591419</td>\n",
       "    </tr>\n",
       "    <tr>\n",
       "      <th>United States</th>\n",
       "      <td>USA</td>\n",
       "      <td>55719.119981</td>\n",
       "      <td>366614</td>\n",
       "      <td>327167434</td>\n",
       "      <td>9869.742382</td>\n",
       "    </tr>\n",
       "  </tbody>\n",
       "</table>\n",
       "</div>"
      ],
      "text/plain": [
       "              country_code  gdp_per_capita  COVID19_Cases  Population  \\\n",
       "Australia              AUS    45377.755143           5797    24992369   \n",
       "China                  CHN    16181.777716          81707  1392730000   \n",
       "Denmark                DNK    48419.437883           4681     5797446   \n",
       "France                 FRA    39555.544663          98010    66987244   \n",
       "India                  IND     6888.188468           4778  1352617328   \n",
       "India                  IND     6888.188468           4778  1352617328   \n",
       "Iran                   IRN    19097.966781          60500    81800269   \n",
       "Italy                  ITA    35828.486281         132547    60431283   \n",
       "Mexico                 MEX    18133.701468           2143   126190788   \n",
       "Sweden                 SWE    47717.664741           7206    10183175   \n",
       "United States          USA    55719.119981         366614   327167434   \n",
       "\n",
       "               health_expenditure_per_capita  \n",
       "Australia                        5002.358277  \n",
       "China                             398.331556  \n",
       "Denmark                          5565.593425  \n",
       "France                           4263.361561  \n",
       "India                              62.715554  \n",
       "India                              62.715554  \n",
       "Iran                              415.391200  \n",
       "Italy                            2738.706124  \n",
       "Mexico                            461.786647  \n",
       "Sweden                           5710.591419  \n",
       "United States                    9869.742382  "
      ]
     },
     "execution_count": 10,
     "metadata": {},
     "output_type": "execute_result"
    }
   ],
   "source": [
    "focus_countries_data.insert(2, \"COVID19_Cases\", [5797, 81707, 4681, 98010, 4778, 4778, 60500, 132547, 2143, 7206, 366614], True)\n",
    "focus_countries_data.insert(3, \"Population\", focus_countries_population[\"population\"] , True)\n",
    "focus_countries_data"
   ]
  },
  {
   "cell_type": "code",
   "execution_count": 19,
   "metadata": {},
   "outputs": [
    {
     "ename": "NameError",
     "evalue": "name 'focus_countries_data' is not defined",
     "output_type": "error",
     "traceback": [
      "\u001b[0;31m---------------------------------------------------------------------------\u001b[0m",
      "\u001b[0;31mNameError\u001b[0m                                 Traceback (most recent call last)",
      "\u001b[0;32m<ipython-input-19-80b36a3d1cf4>\u001b[0m in \u001b[0;36m<module>\u001b[0;34m\u001b[0m\n\u001b[0;32m----> 1\u001b[0;31m \u001b[0mcases_per_capita\u001b[0m \u001b[0;34m=\u001b[0m \u001b[0mfocus_countries_data\u001b[0m\u001b[0;34m[\u001b[0m\u001b[0;34m\"COVID19_Cases\"\u001b[0m\u001b[0;34m]\u001b[0m\u001b[0;34m/\u001b[0m\u001b[0mfocus_countries_data\u001b[0m\u001b[0;34m[\u001b[0m\u001b[0;34m\"Population\"\u001b[0m\u001b[0;34m]\u001b[0m\u001b[0;34m\u001b[0m\u001b[0;34m\u001b[0m\u001b[0m\n\u001b[0m\u001b[1;32m      2\u001b[0m \u001b[0mcases_per_1m\u001b[0m \u001b[0;34m=\u001b[0m \u001b[0mcases_per_capita\u001b[0m\u001b[0;34m*\u001b[0m\u001b[0;36m1000000\u001b[0m\u001b[0;34m\u001b[0m\u001b[0;34m\u001b[0m\u001b[0m\n\u001b[1;32m      3\u001b[0m \u001b[0mtotal_GDP\u001b[0m \u001b[0;34m=\u001b[0m \u001b[0mfocus_countries_data\u001b[0m\u001b[0;34m[\u001b[0m\u001b[0;34m\"gdp_per_capita\"\u001b[0m\u001b[0;34m]\u001b[0m\u001b[0;34m*\u001b[0m\u001b[0mfocus_countries_data\u001b[0m\u001b[0;34m[\u001b[0m\u001b[0;34m\"Population\"\u001b[0m\u001b[0;34m]\u001b[0m\u001b[0;34m\u001b[0m\u001b[0;34m\u001b[0m\u001b[0m\n\u001b[1;32m      4\u001b[0m \u001b[0mtotal_health_expenditure\u001b[0m \u001b[0;34m=\u001b[0m \u001b[0mfocus_countries_data\u001b[0m\u001b[0;34m[\u001b[0m\u001b[0;34m\"health_expenditure_per_capita\"\u001b[0m\u001b[0;34m]\u001b[0m\u001b[0;34m*\u001b[0m\u001b[0mfocus_countries_data\u001b[0m\u001b[0;34m[\u001b[0m\u001b[0;34m\"Population\"\u001b[0m\u001b[0;34m]\u001b[0m\u001b[0;34m\u001b[0m\u001b[0;34m\u001b[0m\u001b[0m\n",
      "\u001b[0;31mNameError\u001b[0m: name 'focus_countries_data' is not defined"
     ]
    }
   ],
   "source": [
    "cases_per_capita = focus_countries_data[\"COVID19_Cases\"]/focus_countries_data[\"Population\"]\n",
    "cases_per_1m = cases_per_capita*1000000\n",
    "total_GDP = focus_countries_data[\"gdp_per_capita\"]*focus_countries_data[\"Population\"]\n",
    "total_health_expenditure = focus_countries_data[\"health_expenditure_per_capita\"]*focus_countries_data[\"Population\"]"
   ]
  },
  {
   "cell_type": "code",
   "execution_count": 20,
   "metadata": {},
   "outputs": [
    {
     "ename": "NameError",
     "evalue": "name 'focus_countries_data' is not defined",
     "output_type": "error",
     "traceback": [
      "\u001b[0;31m---------------------------------------------------------------------------\u001b[0m",
      "\u001b[0;31mNameError\u001b[0m                                 Traceback (most recent call last)",
      "\u001b[0;32m<ipython-input-20-19c38710984a>\u001b[0m in \u001b[0;36m<module>\u001b[0;34m\u001b[0m\n\u001b[0;32m----> 1\u001b[0;31m \u001b[0mfocus_countries_data\u001b[0m\u001b[0;34m.\u001b[0m\u001b[0minsert\u001b[0m\u001b[0;34m(\u001b[0m\u001b[0;36m3\u001b[0m\u001b[0;34m,\u001b[0m \u001b[0;34m\"cases_per_capita\"\u001b[0m\u001b[0;34m,\u001b[0m \u001b[0mcases_per_capita\u001b[0m \u001b[0;34m,\u001b[0m \u001b[0;32mTrue\u001b[0m\u001b[0;34m)\u001b[0m\u001b[0;34m\u001b[0m\u001b[0;34m\u001b[0m\u001b[0m\n\u001b[0m\u001b[1;32m      2\u001b[0m \u001b[0mfocus_countries_data\u001b[0m\u001b[0;34m.\u001b[0m\u001b[0minsert\u001b[0m\u001b[0;34m(\u001b[0m\u001b[0;36m4\u001b[0m\u001b[0;34m,\u001b[0m \u001b[0;34m\"total_GDP\"\u001b[0m\u001b[0;34m,\u001b[0m \u001b[0mtotal_GDP\u001b[0m \u001b[0;34m,\u001b[0m \u001b[0;32mTrue\u001b[0m\u001b[0;34m)\u001b[0m\u001b[0;34m\u001b[0m\u001b[0;34m\u001b[0m\u001b[0m\n\u001b[1;32m      3\u001b[0m \u001b[0mfocus_countries_data\u001b[0m\u001b[0;34m.\u001b[0m\u001b[0minsert\u001b[0m\u001b[0;34m(\u001b[0m\u001b[0;36m5\u001b[0m\u001b[0;34m,\u001b[0m \u001b[0;34m\"total_health_expenditure\"\u001b[0m\u001b[0;34m,\u001b[0m \u001b[0mtotal_health_expenditure\u001b[0m \u001b[0;34m,\u001b[0m \u001b[0;32mTrue\u001b[0m\u001b[0;34m)\u001b[0m\u001b[0;34m\u001b[0m\u001b[0;34m\u001b[0m\u001b[0m\n\u001b[1;32m      4\u001b[0m \u001b[0mfocus_countries_data\u001b[0m\u001b[0;34m.\u001b[0m\u001b[0minsert\u001b[0m\u001b[0;34m(\u001b[0m\u001b[0;36m6\u001b[0m\u001b[0;34m,\u001b[0m \u001b[0;34m\"cases_per_1m\"\u001b[0m\u001b[0;34m,\u001b[0m \u001b[0mtotal_health_expenditure\u001b[0m \u001b[0;34m,\u001b[0m \u001b[0;32mTrue\u001b[0m\u001b[0;34m)\u001b[0m\u001b[0;34m\u001b[0m\u001b[0;34m\u001b[0m\u001b[0m\n\u001b[1;32m      5\u001b[0m \u001b[0mfocus_countries_data\u001b[0m\u001b[0;34m\u001b[0m\u001b[0;34m\u001b[0m\u001b[0m\n",
      "\u001b[0;31mNameError\u001b[0m: name 'focus_countries_data' is not defined"
     ]
    }
   ],
   "source": [
    "focus_countries_data.insert(3, \"cases_per_capita\", cases_per_capita , True)\n",
    "focus_countries_data.insert(4, \"total_GDP\", total_GDP , True)\n",
    "focus_countries_data.insert(5, \"total_health_expenditure\", total_health_expenditure , True)\n",
    "focus_countries_data.insert(6, \"cases_per_1m\", total_health_expenditure , True)\n",
    "focus_countries_data"
   ]
  },
  {
   "cell_type": "code",
   "execution_count": 13,
   "metadata": {},
   "outputs": [
    {
     "data": {
      "image/png": "[encoded data removed]",
      "text/plain": [
       "<Figure size 720x360 with 1 Axes>"
      ]
     },
     "metadata": {
      "needs_background": "light"
     },
     "output_type": "display_data"
    }
   ],
   "source": []
  },
  {
   "cell_type": "code",
   "execution_count": 14,
   "metadata": {},
   "outputs": [
    {
     "data": {
      "image/png": "[encoded data removed]",
      "text/plain": [
       "<Figure size 1008x720 with 1 Axes>"
      ]
     },
     "metadata": {
      "needs_background": "light"
     },
     "output_type": "display_data"
    }
   ],
   "source": [
    "focus_countries_data.set_index('country_code')[['total_GDP', 'total_health_expenditure', 'COVID19_Cases']].plot(kind='bar', figsize=(14, 10))\n",
    "plt.title(\"Comparison of COVID-19 Cases, GDP and Healtcare Spending\", fontsize=18, y=1.01)\n",
    "plt.xlabel(\"Country\", labelpad=15)\n",
    "plt.ylabel(\"Count\", labelpad=15)\n",
    "plt.legend([\"gdp_per_capita\", \"COVID19_Cases\", \"health_expenditure_per_capita\"], fontsize=16);"
   ]
  }
 ],
 "metadata": {
  "kernelspec": {
   "display_name": "Python 3",
   "language": "python",
   "name": "python3"
  },
  "language_info": {
   "codemirror_mode": {
    "name": "ipython",
    "version": 3
   },
   "file_extension": ".py",
   "mimetype": "text/x-python",
   "name": "python",
   "nbconvert_exporter": "python",
   "pygments_lexer": "ipython3",
   "version": "3.6.10"
  }
 },
 "nbformat": 4,
 "nbformat_minor": 4
}
